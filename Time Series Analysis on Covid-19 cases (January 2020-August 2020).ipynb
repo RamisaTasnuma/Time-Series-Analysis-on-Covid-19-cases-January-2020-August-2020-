{
 "cells": [
  {
   "cell_type": "markdown",
   "id": "81b6f9aa",
   "metadata": {},
   "source": [
    "# Covid-19 Prediction Analysis Using Time Series Model"
   ]
  },
  {
   "cell_type": "markdown",
   "id": "8ce9cf01",
   "metadata": {},
   "source": [
    "The methodology used in this project consisted of modeling cases of confirmed diagnoses of COVID-19 worldwide(123 countries) using Facebook Prophet model, graph prediction, and cross-validatiion changes in trends for time-dependent count data. Additionally, I evaluated the accuracy of the predictions using a performance Metrics."
   ]
  },
  {
   "cell_type": "markdown",
   "id": "035d23fb",
   "metadata": {},
   "source": [
    " The Project is divided into3 parts: Data Acquisition, Data Cleaning, Prediction, and Visualization"
   ]
  },
  {
   "cell_type": "markdown",
   "id": "cda439c6",
   "metadata": {},
   "source": [
    "The dataset has been collected from WHO's webpage."
   ]
  },
  {
   "cell_type": "markdown",
   "id": "0fe8c1a0",
   "metadata": {},
   "source": [
    "# Data Acquisition"
   ]
  },
  {
   "cell_type": "code",
   "execution_count": 1,
   "id": "9a7287bf",
   "metadata": {},
   "outputs": [
    {
     "name": "stderr",
     "output_type": "stream",
     "text": [
      "Importing plotly failed. Interactive plots will not work.\n"
     ]
    }
   ],
   "source": [
    "#for prediction work\n",
    "import fbprophet\n",
    "from fbprophet import Prophet"
   ]
  },
  {
   "cell_type": "code",
   "execution_count": 23,
   "id": "1cc6424c",
   "metadata": {},
   "outputs": [],
   "source": [
    "#for addition work\n",
    "from fbprophet import Prophet\n",
    "import numpy as np\n",
    "import pandas as pd\n",
    "from pandas import DataFrame, Series\n",
    "from fbprophet.plot import add_changepoints_to_plot\n",
    "from fbprophet.diagnostics import cross_validation\n",
    "from fbprophet.plot import performance_metrics\n",
    "from fbprophet.plot import plot_cross_validation_metric"
   ]
  },
  {
   "cell_type": "markdown",
   "id": "ea73ea21",
   "metadata": {},
   "source": [
    "After importing the necessery Python libraries, it's time to import the Dataset."
   ]
  },
  {
   "cell_type": "code",
   "execution_count": 5,
   "id": "77cb2a6a",
   "metadata": {},
   "outputs": [
    {
     "data": {
      "text/html": [
       "<div>\n",
       "<style scoped>\n",
       "    .dataframe tbody tr th:only-of-type {\n",
       "        vertical-align: middle;\n",
       "    }\n",
       "\n",
       "    .dataframe tbody tr th {\n",
       "        vertical-align: top;\n",
       "    }\n",
       "\n",
       "    .dataframe thead th {\n",
       "        text-align: right;\n",
       "    }\n",
       "</style>\n",
       "<table border=\"1\" class=\"dataframe\">\n",
       "  <thead>\n",
       "    <tr style=\"text-align: right;\">\n",
       "      <th></th>\n",
       "      <th>Province/State</th>\n",
       "      <th>Country/Region</th>\n",
       "      <th>Lat</th>\n",
       "      <th>Long</th>\n",
       "      <th>Date</th>\n",
       "      <th>Confirmed</th>\n",
       "      <th>Deaths</th>\n",
       "      <th>Recovered</th>\n",
       "      <th>Active</th>\n",
       "      <th>WHO Region</th>\n",
       "    </tr>\n",
       "  </thead>\n",
       "  <tbody>\n",
       "    <tr>\n",
       "      <th>0</th>\n",
       "      <td>NaN</td>\n",
       "      <td>Afghanistan</td>\n",
       "      <td>33.939110</td>\n",
       "      <td>67.709953</td>\n",
       "      <td>2020-01-22</td>\n",
       "      <td>0</td>\n",
       "      <td>0</td>\n",
       "      <td>0</td>\n",
       "      <td>0</td>\n",
       "      <td>Eastern Mediterranean</td>\n",
       "    </tr>\n",
       "    <tr>\n",
       "      <th>1</th>\n",
       "      <td>NaN</td>\n",
       "      <td>Albania</td>\n",
       "      <td>41.153300</td>\n",
       "      <td>20.168300</td>\n",
       "      <td>2020-01-22</td>\n",
       "      <td>0</td>\n",
       "      <td>0</td>\n",
       "      <td>0</td>\n",
       "      <td>0</td>\n",
       "      <td>Europe</td>\n",
       "    </tr>\n",
       "    <tr>\n",
       "      <th>2</th>\n",
       "      <td>NaN</td>\n",
       "      <td>Algeria</td>\n",
       "      <td>28.033900</td>\n",
       "      <td>1.659600</td>\n",
       "      <td>2020-01-22</td>\n",
       "      <td>0</td>\n",
       "      <td>0</td>\n",
       "      <td>0</td>\n",
       "      <td>0</td>\n",
       "      <td>Africa</td>\n",
       "    </tr>\n",
       "    <tr>\n",
       "      <th>3</th>\n",
       "      <td>NaN</td>\n",
       "      <td>Andorra</td>\n",
       "      <td>42.506300</td>\n",
       "      <td>1.521800</td>\n",
       "      <td>2020-01-22</td>\n",
       "      <td>0</td>\n",
       "      <td>0</td>\n",
       "      <td>0</td>\n",
       "      <td>0</td>\n",
       "      <td>Europe</td>\n",
       "    </tr>\n",
       "    <tr>\n",
       "      <th>4</th>\n",
       "      <td>NaN</td>\n",
       "      <td>Angola</td>\n",
       "      <td>-11.202700</td>\n",
       "      <td>17.873900</td>\n",
       "      <td>2020-01-22</td>\n",
       "      <td>0</td>\n",
       "      <td>0</td>\n",
       "      <td>0</td>\n",
       "      <td>0</td>\n",
       "      <td>Africa</td>\n",
       "    </tr>\n",
       "    <tr>\n",
       "      <th>...</th>\n",
       "      <td>...</td>\n",
       "      <td>...</td>\n",
       "      <td>...</td>\n",
       "      <td>...</td>\n",
       "      <td>...</td>\n",
       "      <td>...</td>\n",
       "      <td>...</td>\n",
       "      <td>...</td>\n",
       "      <td>...</td>\n",
       "      <td>...</td>\n",
       "    </tr>\n",
       "    <tr>\n",
       "      <th>49063</th>\n",
       "      <td>NaN</td>\n",
       "      <td>Sao Tome and Principe</td>\n",
       "      <td>0.186400</td>\n",
       "      <td>6.613100</td>\n",
       "      <td>2020-07-27</td>\n",
       "      <td>865</td>\n",
       "      <td>14</td>\n",
       "      <td>734</td>\n",
       "      <td>117</td>\n",
       "      <td>Africa</td>\n",
       "    </tr>\n",
       "    <tr>\n",
       "      <th>49064</th>\n",
       "      <td>NaN</td>\n",
       "      <td>Yemen</td>\n",
       "      <td>15.552727</td>\n",
       "      <td>48.516388</td>\n",
       "      <td>2020-07-27</td>\n",
       "      <td>1691</td>\n",
       "      <td>483</td>\n",
       "      <td>833</td>\n",
       "      <td>375</td>\n",
       "      <td>Eastern Mediterranean</td>\n",
       "    </tr>\n",
       "    <tr>\n",
       "      <th>49065</th>\n",
       "      <td>NaN</td>\n",
       "      <td>Comoros</td>\n",
       "      <td>-11.645500</td>\n",
       "      <td>43.333300</td>\n",
       "      <td>2020-07-27</td>\n",
       "      <td>354</td>\n",
       "      <td>7</td>\n",
       "      <td>328</td>\n",
       "      <td>19</td>\n",
       "      <td>Africa</td>\n",
       "    </tr>\n",
       "    <tr>\n",
       "      <th>49066</th>\n",
       "      <td>NaN</td>\n",
       "      <td>Tajikistan</td>\n",
       "      <td>38.861000</td>\n",
       "      <td>71.276100</td>\n",
       "      <td>2020-07-27</td>\n",
       "      <td>7235</td>\n",
       "      <td>60</td>\n",
       "      <td>6028</td>\n",
       "      <td>1147</td>\n",
       "      <td>Europe</td>\n",
       "    </tr>\n",
       "    <tr>\n",
       "      <th>49067</th>\n",
       "      <td>NaN</td>\n",
       "      <td>Lesotho</td>\n",
       "      <td>-29.610000</td>\n",
       "      <td>28.233600</td>\n",
       "      <td>2020-07-27</td>\n",
       "      <td>505</td>\n",
       "      <td>12</td>\n",
       "      <td>128</td>\n",
       "      <td>365</td>\n",
       "      <td>Africa</td>\n",
       "    </tr>\n",
       "  </tbody>\n",
       "</table>\n",
       "<p>49068 rows × 10 columns</p>\n",
       "</div>"
      ],
      "text/plain": [
       "      Province/State         Country/Region        Lat       Long        Date  \\\n",
       "0                NaN            Afghanistan  33.939110  67.709953  2020-01-22   \n",
       "1                NaN                Albania  41.153300  20.168300  2020-01-22   \n",
       "2                NaN                Algeria  28.033900   1.659600  2020-01-22   \n",
       "3                NaN                Andorra  42.506300   1.521800  2020-01-22   \n",
       "4                NaN                 Angola -11.202700  17.873900  2020-01-22   \n",
       "...              ...                    ...        ...        ...         ...   \n",
       "49063            NaN  Sao Tome and Principe   0.186400   6.613100  2020-07-27   \n",
       "49064            NaN                  Yemen  15.552727  48.516388  2020-07-27   \n",
       "49065            NaN                Comoros -11.645500  43.333300  2020-07-27   \n",
       "49066            NaN             Tajikistan  38.861000  71.276100  2020-07-27   \n",
       "49067            NaN                Lesotho -29.610000  28.233600  2020-07-27   \n",
       "\n",
       "       Confirmed  Deaths  Recovered  Active             WHO Region  \n",
       "0              0       0          0       0  Eastern Mediterranean  \n",
       "1              0       0          0       0                 Europe  \n",
       "2              0       0          0       0                 Africa  \n",
       "3              0       0          0       0                 Europe  \n",
       "4              0       0          0       0                 Africa  \n",
       "...          ...     ...        ...     ...                    ...  \n",
       "49063        865      14        734     117                 Africa  \n",
       "49064       1691     483        833     375  Eastern Mediterranean  \n",
       "49065        354       7        328      19                 Africa  \n",
       "49066       7235      60       6028    1147                 Europe  \n",
       "49067        505      12        128     365                 Africa  \n",
       "\n",
       "[49068 rows x 10 columns]"
      ]
     },
     "execution_count": 5,
     "metadata": {},
     "output_type": "execute_result"
    }
   ],
   "source": [
    "df=DataFrame(pd.read_csv('covid_19_clean_complete.csv'))\n",
    "df"
   ]
  },
  {
   "cell_type": "markdown",
   "id": "ef9df8fd",
   "metadata": {},
   "source": [
    "# Data Cleaning"
   ]
  },
  {
   "cell_type": "markdown",
   "id": "ccbe2b97",
   "metadata": {},
   "source": [
    "The next part of the work is to clean the dataset in a way that it's usable for creating model for Prediction."
   ]
  },
  {
   "cell_type": "code",
   "execution_count": 6,
   "id": "9ca798d1",
   "metadata": {},
   "outputs": [
    {
     "data": {
      "text/plain": [
       "Province/State     object\n",
       "Country/Region     object\n",
       "Lat               float64\n",
       "Long              float64\n",
       "Date               object\n",
       "Confirmed           int64\n",
       "Deaths              int64\n",
       "Recovered           int64\n",
       "Active              int64\n",
       "WHO Region         object\n",
       "dtype: object"
      ]
     },
     "execution_count": 6,
     "metadata": {},
     "output_type": "execute_result"
    }
   ],
   "source": [
    "df.dtypes"
   ]
  },
  {
   "cell_type": "code",
   "execution_count": 8,
   "id": "fcc85463",
   "metadata": {},
   "outputs": [
    {
     "data": {
      "text/plain": [
       "Province/State    34404\n",
       "Country/Region        0\n",
       "Lat                   0\n",
       "Long                  0\n",
       "Date                  0\n",
       "Confirmed             0\n",
       "Deaths                0\n",
       "Recovered             0\n",
       "Active                0\n",
       "WHO Region            0\n",
       "dtype: int64"
      ]
     },
     "execution_count": 8,
     "metadata": {},
     "output_type": "execute_result"
    }
   ],
   "source": [
    "df['Date']=pd.to_datetime(df['Date'])\n",
    "##summing all the missing Values\n",
    "df.isnull().sum()"
   ]
  },
  {
   "cell_type": "markdown",
   "id": "98536a53",
   "metadata": {},
   "source": [
    "changing the Date Datatype for easier use and adding all the missing values to get rid of unnessery  datas."
   ]
  },
  {
   "cell_type": "code",
   "execution_count": 10,
   "id": "8d8abaa4",
   "metadata": {},
   "outputs": [
    {
     "data": {
      "text/plain": [
       "188"
      ]
     },
     "execution_count": 10,
     "metadata": {},
     "output_type": "execute_result"
    }
   ],
   "source": [
    "#finding out the unique dates\n",
    "df['Date'].nunique()"
   ]
  },
  {
   "cell_type": "markdown",
   "id": "2227888a",
   "metadata": {},
   "source": [
    "creating a new pivot dataset by arranging in order of date and diving into confirmed, Deaths and Recorvered around the world"
   ]
  },
  {
   "cell_type": "code",
   "execution_count": 11,
   "id": "ba77f83f",
   "metadata": {},
   "outputs": [
    {
     "name": "stderr",
     "output_type": "stream",
     "text": [
      "<ipython-input-11-393bd9e3ac97>:2: FutureWarning: Indexing with multiple keys (implicitly converted to a tuple of keys) will be deprecated, use a list instead.\n",
      "  total_cases=df.groupby(['Date'])['Confirmed','Deaths','Recovered','Active'].sum().reset_index()\n"
     ]
    },
    {
     "data": {
      "text/html": [
       "<div>\n",
       "<style scoped>\n",
       "    .dataframe tbody tr th:only-of-type {\n",
       "        vertical-align: middle;\n",
       "    }\n",
       "\n",
       "    .dataframe tbody tr th {\n",
       "        vertical-align: top;\n",
       "    }\n",
       "\n",
       "    .dataframe thead th {\n",
       "        text-align: right;\n",
       "    }\n",
       "</style>\n",
       "<table border=\"1\" class=\"dataframe\">\n",
       "  <thead>\n",
       "    <tr style=\"text-align: right;\">\n",
       "      <th></th>\n",
       "      <th>Date</th>\n",
       "      <th>Confirmed</th>\n",
       "      <th>Deaths</th>\n",
       "      <th>Recovered</th>\n",
       "      <th>Active</th>\n",
       "    </tr>\n",
       "  </thead>\n",
       "  <tbody>\n",
       "    <tr>\n",
       "      <th>0</th>\n",
       "      <td>2020-01-22</td>\n",
       "      <td>555</td>\n",
       "      <td>17</td>\n",
       "      <td>28</td>\n",
       "      <td>510</td>\n",
       "    </tr>\n",
       "    <tr>\n",
       "      <th>1</th>\n",
       "      <td>2020-01-23</td>\n",
       "      <td>654</td>\n",
       "      <td>18</td>\n",
       "      <td>30</td>\n",
       "      <td>606</td>\n",
       "    </tr>\n",
       "    <tr>\n",
       "      <th>2</th>\n",
       "      <td>2020-01-24</td>\n",
       "      <td>941</td>\n",
       "      <td>26</td>\n",
       "      <td>36</td>\n",
       "      <td>879</td>\n",
       "    </tr>\n",
       "    <tr>\n",
       "      <th>3</th>\n",
       "      <td>2020-01-25</td>\n",
       "      <td>1434</td>\n",
       "      <td>42</td>\n",
       "      <td>39</td>\n",
       "      <td>1353</td>\n",
       "    </tr>\n",
       "    <tr>\n",
       "      <th>4</th>\n",
       "      <td>2020-01-26</td>\n",
       "      <td>2118</td>\n",
       "      <td>56</td>\n",
       "      <td>52</td>\n",
       "      <td>2010</td>\n",
       "    </tr>\n",
       "    <tr>\n",
       "      <th>...</th>\n",
       "      <td>...</td>\n",
       "      <td>...</td>\n",
       "      <td>...</td>\n",
       "      <td>...</td>\n",
       "      <td>...</td>\n",
       "    </tr>\n",
       "    <tr>\n",
       "      <th>183</th>\n",
       "      <td>2020-07-23</td>\n",
       "      <td>15510481</td>\n",
       "      <td>633506</td>\n",
       "      <td>8710969</td>\n",
       "      <td>6166006</td>\n",
       "    </tr>\n",
       "    <tr>\n",
       "      <th>184</th>\n",
       "      <td>2020-07-24</td>\n",
       "      <td>15791645</td>\n",
       "      <td>639650</td>\n",
       "      <td>8939705</td>\n",
       "      <td>6212290</td>\n",
       "    </tr>\n",
       "    <tr>\n",
       "      <th>185</th>\n",
       "      <td>2020-07-25</td>\n",
       "      <td>16047190</td>\n",
       "      <td>644517</td>\n",
       "      <td>9158743</td>\n",
       "      <td>6243930</td>\n",
       "    </tr>\n",
       "    <tr>\n",
       "      <th>186</th>\n",
       "      <td>2020-07-26</td>\n",
       "      <td>16251796</td>\n",
       "      <td>648621</td>\n",
       "      <td>9293464</td>\n",
       "      <td>6309711</td>\n",
       "    </tr>\n",
       "    <tr>\n",
       "      <th>187</th>\n",
       "      <td>2020-07-27</td>\n",
       "      <td>16480485</td>\n",
       "      <td>654036</td>\n",
       "      <td>9468087</td>\n",
       "      <td>6358362</td>\n",
       "    </tr>\n",
       "  </tbody>\n",
       "</table>\n",
       "<p>188 rows × 5 columns</p>\n",
       "</div>"
      ],
      "text/plain": [
       "          Date  Confirmed  Deaths  Recovered   Active\n",
       "0   2020-01-22        555      17         28      510\n",
       "1   2020-01-23        654      18         30      606\n",
       "2   2020-01-24        941      26         36      879\n",
       "3   2020-01-25       1434      42         39     1353\n",
       "4   2020-01-26       2118      56         52     2010\n",
       "..         ...        ...     ...        ...      ...\n",
       "183 2020-07-23   15510481  633506    8710969  6166006\n",
       "184 2020-07-24   15791645  639650    8939705  6212290\n",
       "185 2020-07-25   16047190  644517    9158743  6243930\n",
       "186 2020-07-26   16251796  648621    9293464  6309711\n",
       "187 2020-07-27   16480485  654036    9468087  6358362\n",
       "\n",
       "[188 rows x 5 columns]"
      ]
     },
     "execution_count": 11,
     "metadata": {},
     "output_type": "execute_result"
    }
   ],
   "source": [
    "\n",
    "total_cases=df.groupby(['Date'])['Confirmed','Deaths','Recovered','Active'].sum().reset_index()\n",
    "total_cases"
   ]
  },
  {
   "cell_type": "markdown",
   "id": "35e45bcf",
   "metadata": {},
   "source": [
    "Now, applying the Facebook Orophet in the dataset to create a model to work with while renaming date column by ds and confirmed cases as Y\n",
    "(since Prophet Modelling Requires an ds Vs Y dataset) and then fitting the new and improved dataset under 'Model'. Then we'll work on Future Prediction by dividing it into Seasonalities."
   ]
  },
  {
   "cell_type": "code",
   "execution_count": 12,
   "id": "1178d81c",
   "metadata": {},
   "outputs": [
    {
     "name": "stderr",
     "output_type": "stream",
     "text": [
      "INFO:numexpr.utils:NumExpr defaulting to 4 threads.\n",
      "INFO:fbprophet:Disabling yearly seasonality. Run prophet with yearly_seasonality=True to override this.\n",
      "INFO:fbprophet:Disabling daily seasonality. Run prophet with daily_seasonality=True to override this.\n"
     ]
    }
   ],
   "source": [
    "#Apply Prophet model on Data\n",
    "df_prophet=total_cases.rename(columns={'Date':'ds','Confirmed':'y'})\n",
    "m=Prophet()\n",
    "model=m.fit(df_prophet)"
   ]
  },
  {
   "cell_type": "code",
   "execution_count": 13,
   "id": "c740253c",
   "metadata": {},
   "outputs": [
    {
     "data": {
      "text/plain": [
       "OrderedDict([('weekly',\n",
       "              {'period': 7,\n",
       "               'fourier_order': 3,\n",
       "               'prior_scale': 10.0,\n",
       "               'mode': 'additive',\n",
       "               'condition_name': None})])"
      ]
     },
     "execution_count": 13,
     "metadata": {},
     "output_type": "execute_result"
    }
   ],
   "source": [
    "#creating Data for future prediction\n",
    "model.seasonalities\n"
   ]
  },
  {
   "cell_type": "code",
   "execution_count": 14,
   "id": "89cefe32",
   "metadata": {},
   "outputs": [
    {
     "data": {
      "text/html": [
       "<div>\n",
       "<style scoped>\n",
       "    .dataframe tbody tr th:only-of-type {\n",
       "        vertical-align: middle;\n",
       "    }\n",
       "\n",
       "    .dataframe tbody tr th {\n",
       "        vertical-align: top;\n",
       "    }\n",
       "\n",
       "    .dataframe thead th {\n",
       "        text-align: right;\n",
       "    }\n",
       "</style>\n",
       "<table border=\"1\" class=\"dataframe\">\n",
       "  <thead>\n",
       "    <tr style=\"text-align: right;\">\n",
       "      <th></th>\n",
       "      <th>ds</th>\n",
       "    </tr>\n",
       "  </thead>\n",
       "  <tbody>\n",
       "    <tr>\n",
       "      <th>213</th>\n",
       "      <td>2020-08-22</td>\n",
       "    </tr>\n",
       "    <tr>\n",
       "      <th>214</th>\n",
       "      <td>2020-08-23</td>\n",
       "    </tr>\n",
       "    <tr>\n",
       "      <th>215</th>\n",
       "      <td>2020-08-24</td>\n",
       "    </tr>\n",
       "    <tr>\n",
       "      <th>216</th>\n",
       "      <td>2020-08-25</td>\n",
       "    </tr>\n",
       "    <tr>\n",
       "      <th>217</th>\n",
       "      <td>2020-08-26</td>\n",
       "    </tr>\n",
       "  </tbody>\n",
       "</table>\n",
       "</div>"
      ],
      "text/plain": [
       "            ds\n",
       "213 2020-08-22\n",
       "214 2020-08-23\n",
       "215 2020-08-24\n",
       "216 2020-08-25\n",
       "217 2020-08-26"
      ]
     },
     "execution_count": 14,
     "metadata": {},
     "output_type": "execute_result"
    }
   ],
   "source": [
    "future_global=model.make_future_dataframe(periods=30,freq='D')\n",
    "future_global.tail()"
   ]
  },
  {
   "cell_type": "markdown",
   "id": "483b239a",
   "metadata": {},
   "source": [
    "Data Cleaning is now completed"
   ]
  },
  {
   "cell_type": "markdown",
   "id": "656e15d5",
   "metadata": {},
   "source": [
    "# Prediction & Visualization"
   ]
  },
  {
   "cell_type": "code",
   "execution_count": 15,
   "id": "cff6ea33",
   "metadata": {},
   "outputs": [
    {
     "data": {
      "text/html": [
       "<div>\n",
       "<style scoped>\n",
       "    .dataframe tbody tr th:only-of-type {\n",
       "        vertical-align: middle;\n",
       "    }\n",
       "\n",
       "    .dataframe tbody tr th {\n",
       "        vertical-align: top;\n",
       "    }\n",
       "\n",
       "    .dataframe thead th {\n",
       "        text-align: right;\n",
       "    }\n",
       "</style>\n",
       "<table border=\"1\" class=\"dataframe\">\n",
       "  <thead>\n",
       "    <tr style=\"text-align: right;\">\n",
       "      <th></th>\n",
       "      <th>ds</th>\n",
       "      <th>trend</th>\n",
       "      <th>yhat_lower</th>\n",
       "      <th>yhat_upper</th>\n",
       "      <th>trend_lower</th>\n",
       "      <th>trend_upper</th>\n",
       "      <th>additive_terms</th>\n",
       "      <th>additive_terms_lower</th>\n",
       "      <th>additive_terms_upper</th>\n",
       "      <th>weekly</th>\n",
       "      <th>weekly_lower</th>\n",
       "      <th>weekly_upper</th>\n",
       "      <th>multiplicative_terms</th>\n",
       "      <th>multiplicative_terms_lower</th>\n",
       "      <th>multiplicative_terms_upper</th>\n",
       "      <th>yhat</th>\n",
       "    </tr>\n",
       "  </thead>\n",
       "  <tbody>\n",
       "    <tr>\n",
       "      <th>0</th>\n",
       "      <td>2020-01-22</td>\n",
       "      <td>-1.063986e+04</td>\n",
       "      <td>-1.261507e+05</td>\n",
       "      <td>8.632714e+04</td>\n",
       "      <td>-1.063986e+04</td>\n",
       "      <td>-1.063986e+04</td>\n",
       "      <td>-10982.447793</td>\n",
       "      <td>-10982.447793</td>\n",
       "      <td>-10982.447793</td>\n",
       "      <td>-10982.447793</td>\n",
       "      <td>-10982.447793</td>\n",
       "      <td>-10982.447793</td>\n",
       "      <td>0.0</td>\n",
       "      <td>0.0</td>\n",
       "      <td>0.0</td>\n",
       "      <td>-2.162230e+04</td>\n",
       "    </tr>\n",
       "    <tr>\n",
       "      <th>1</th>\n",
       "      <td>2020-01-23</td>\n",
       "      <td>-7.901275e+03</td>\n",
       "      <td>-1.124903e+05</td>\n",
       "      <td>9.480858e+04</td>\n",
       "      <td>-7.901275e+03</td>\n",
       "      <td>-7.901275e+03</td>\n",
       "      <td>-1076.670504</td>\n",
       "      <td>-1076.670504</td>\n",
       "      <td>-1076.670504</td>\n",
       "      <td>-1076.670504</td>\n",
       "      <td>-1076.670504</td>\n",
       "      <td>-1076.670504</td>\n",
       "      <td>0.0</td>\n",
       "      <td>0.0</td>\n",
       "      <td>0.0</td>\n",
       "      <td>-8.977945e+03</td>\n",
       "    </tr>\n",
       "    <tr>\n",
       "      <th>2</th>\n",
       "      <td>2020-01-24</td>\n",
       "      <td>-5.162694e+03</td>\n",
       "      <td>-9.954272e+04</td>\n",
       "      <td>1.234434e+05</td>\n",
       "      <td>-5.162694e+03</td>\n",
       "      <td>-5.162694e+03</td>\n",
       "      <td>10097.471121</td>\n",
       "      <td>10097.471121</td>\n",
       "      <td>10097.471121</td>\n",
       "      <td>10097.471121</td>\n",
       "      <td>10097.471121</td>\n",
       "      <td>10097.471121</td>\n",
       "      <td>0.0</td>\n",
       "      <td>0.0</td>\n",
       "      <td>0.0</td>\n",
       "      <td>4.934777e+03</td>\n",
       "    </tr>\n",
       "    <tr>\n",
       "      <th>3</th>\n",
       "      <td>2020-01-25</td>\n",
       "      <td>-2.424113e+03</td>\n",
       "      <td>-9.447651e+04</td>\n",
       "      <td>1.218945e+05</td>\n",
       "      <td>-2.424113e+03</td>\n",
       "      <td>-2.424113e+03</td>\n",
       "      <td>13741.427160</td>\n",
       "      <td>13741.427160</td>\n",
       "      <td>13741.427160</td>\n",
       "      <td>13741.427160</td>\n",
       "      <td>13741.427160</td>\n",
       "      <td>13741.427160</td>\n",
       "      <td>0.0</td>\n",
       "      <td>0.0</td>\n",
       "      <td>0.0</td>\n",
       "      <td>1.131731e+04</td>\n",
       "    </tr>\n",
       "    <tr>\n",
       "      <th>4</th>\n",
       "      <td>2020-01-26</td>\n",
       "      <td>3.144674e+02</td>\n",
       "      <td>-1.024968e+05</td>\n",
       "      <td>1.156963e+05</td>\n",
       "      <td>3.144674e+02</td>\n",
       "      <td>3.144674e+02</td>\n",
       "      <td>7236.701390</td>\n",
       "      <td>7236.701390</td>\n",
       "      <td>7236.701390</td>\n",
       "      <td>7236.701390</td>\n",
       "      <td>7236.701390</td>\n",
       "      <td>7236.701390</td>\n",
       "      <td>0.0</td>\n",
       "      <td>0.0</td>\n",
       "      <td>0.0</td>\n",
       "      <td>7.551169e+03</td>\n",
       "    </tr>\n",
       "    <tr>\n",
       "      <th>...</th>\n",
       "      <td>...</td>\n",
       "      <td>...</td>\n",
       "      <td>...</td>\n",
       "      <td>...</td>\n",
       "      <td>...</td>\n",
       "      <td>...</td>\n",
       "      <td>...</td>\n",
       "      <td>...</td>\n",
       "      <td>...</td>\n",
       "      <td>...</td>\n",
       "      <td>...</td>\n",
       "      <td>...</td>\n",
       "      <td>...</td>\n",
       "      <td>...</td>\n",
       "      <td>...</td>\n",
       "      <td>...</td>\n",
       "    </tr>\n",
       "    <tr>\n",
       "      <th>213</th>\n",
       "      <td>2020-08-22</td>\n",
       "      <td>2.144058e+07</td>\n",
       "      <td>2.102908e+07</td>\n",
       "      <td>2.182658e+07</td>\n",
       "      <td>2.106597e+07</td>\n",
       "      <td>2.178680e+07</td>\n",
       "      <td>13741.427160</td>\n",
       "      <td>13741.427160</td>\n",
       "      <td>13741.427160</td>\n",
       "      <td>13741.427160</td>\n",
       "      <td>13741.427160</td>\n",
       "      <td>13741.427160</td>\n",
       "      <td>0.0</td>\n",
       "      <td>0.0</td>\n",
       "      <td>0.0</td>\n",
       "      <td>2.145432e+07</td>\n",
       "    </tr>\n",
       "    <tr>\n",
       "      <th>214</th>\n",
       "      <td>2020-08-23</td>\n",
       "      <td>2.164466e+07</td>\n",
       "      <td>2.123969e+07</td>\n",
       "      <td>2.204545e+07</td>\n",
       "      <td>2.124366e+07</td>\n",
       "      <td>2.201341e+07</td>\n",
       "      <td>7236.701390</td>\n",
       "      <td>7236.701390</td>\n",
       "      <td>7236.701390</td>\n",
       "      <td>7236.701390</td>\n",
       "      <td>7236.701390</td>\n",
       "      <td>7236.701390</td>\n",
       "      <td>0.0</td>\n",
       "      <td>0.0</td>\n",
       "      <td>0.0</td>\n",
       "      <td>2.165190e+07</td>\n",
       "    </tr>\n",
       "    <tr>\n",
       "      <th>215</th>\n",
       "      <td>2020-08-24</td>\n",
       "      <td>2.184875e+07</td>\n",
       "      <td>2.141267e+07</td>\n",
       "      <td>2.227108e+07</td>\n",
       "      <td>2.142413e+07</td>\n",
       "      <td>2.224898e+07</td>\n",
       "      <td>-2165.964784</td>\n",
       "      <td>-2165.964784</td>\n",
       "      <td>-2165.964784</td>\n",
       "      <td>-2165.964784</td>\n",
       "      <td>-2165.964784</td>\n",
       "      <td>-2165.964784</td>\n",
       "      <td>0.0</td>\n",
       "      <td>0.0</td>\n",
       "      <td>0.0</td>\n",
       "      <td>2.184658e+07</td>\n",
       "    </tr>\n",
       "    <tr>\n",
       "      <th>216</th>\n",
       "      <td>2020-08-25</td>\n",
       "      <td>2.205283e+07</td>\n",
       "      <td>2.156169e+07</td>\n",
       "      <td>2.248824e+07</td>\n",
       "      <td>2.160282e+07</td>\n",
       "      <td>2.248209e+07</td>\n",
       "      <td>-16850.516589</td>\n",
       "      <td>-16850.516589</td>\n",
       "      <td>-16850.516589</td>\n",
       "      <td>-16850.516589</td>\n",
       "      <td>-16850.516589</td>\n",
       "      <td>-16850.516589</td>\n",
       "      <td>0.0</td>\n",
       "      <td>0.0</td>\n",
       "      <td>0.0</td>\n",
       "      <td>2.203598e+07</td>\n",
       "    </tr>\n",
       "    <tr>\n",
       "      <th>217</th>\n",
       "      <td>2020-08-26</td>\n",
       "      <td>2.225691e+07</td>\n",
       "      <td>2.174254e+07</td>\n",
       "      <td>2.272054e+07</td>\n",
       "      <td>2.177578e+07</td>\n",
       "      <td>2.271806e+07</td>\n",
       "      <td>-10982.447793</td>\n",
       "      <td>-10982.447793</td>\n",
       "      <td>-10982.447793</td>\n",
       "      <td>-10982.447793</td>\n",
       "      <td>-10982.447793</td>\n",
       "      <td>-10982.447793</td>\n",
       "      <td>0.0</td>\n",
       "      <td>0.0</td>\n",
       "      <td>0.0</td>\n",
       "      <td>2.224593e+07</td>\n",
       "    </tr>\n",
       "  </tbody>\n",
       "</table>\n",
       "<p>218 rows × 16 columns</p>\n",
       "</div>"
      ],
      "text/plain": [
       "            ds         trend    yhat_lower    yhat_upper   trend_lower  \\\n",
       "0   2020-01-22 -1.063986e+04 -1.261507e+05  8.632714e+04 -1.063986e+04   \n",
       "1   2020-01-23 -7.901275e+03 -1.124903e+05  9.480858e+04 -7.901275e+03   \n",
       "2   2020-01-24 -5.162694e+03 -9.954272e+04  1.234434e+05 -5.162694e+03   \n",
       "3   2020-01-25 -2.424113e+03 -9.447651e+04  1.218945e+05 -2.424113e+03   \n",
       "4   2020-01-26  3.144674e+02 -1.024968e+05  1.156963e+05  3.144674e+02   \n",
       "..         ...           ...           ...           ...           ...   \n",
       "213 2020-08-22  2.144058e+07  2.102908e+07  2.182658e+07  2.106597e+07   \n",
       "214 2020-08-23  2.164466e+07  2.123969e+07  2.204545e+07  2.124366e+07   \n",
       "215 2020-08-24  2.184875e+07  2.141267e+07  2.227108e+07  2.142413e+07   \n",
       "216 2020-08-25  2.205283e+07  2.156169e+07  2.248824e+07  2.160282e+07   \n",
       "217 2020-08-26  2.225691e+07  2.174254e+07  2.272054e+07  2.177578e+07   \n",
       "\n",
       "      trend_upper  additive_terms  additive_terms_lower  additive_terms_upper  \\\n",
       "0   -1.063986e+04   -10982.447793         -10982.447793         -10982.447793   \n",
       "1   -7.901275e+03    -1076.670504          -1076.670504          -1076.670504   \n",
       "2   -5.162694e+03    10097.471121          10097.471121          10097.471121   \n",
       "3   -2.424113e+03    13741.427160          13741.427160          13741.427160   \n",
       "4    3.144674e+02     7236.701390           7236.701390           7236.701390   \n",
       "..            ...             ...                   ...                   ...   \n",
       "213  2.178680e+07    13741.427160          13741.427160          13741.427160   \n",
       "214  2.201341e+07     7236.701390           7236.701390           7236.701390   \n",
       "215  2.224898e+07    -2165.964784          -2165.964784          -2165.964784   \n",
       "216  2.248209e+07   -16850.516589         -16850.516589         -16850.516589   \n",
       "217  2.271806e+07   -10982.447793         -10982.447793         -10982.447793   \n",
       "\n",
       "           weekly  weekly_lower  weekly_upper  multiplicative_terms  \\\n",
       "0   -10982.447793 -10982.447793 -10982.447793                   0.0   \n",
       "1    -1076.670504  -1076.670504  -1076.670504                   0.0   \n",
       "2    10097.471121  10097.471121  10097.471121                   0.0   \n",
       "3    13741.427160  13741.427160  13741.427160                   0.0   \n",
       "4     7236.701390   7236.701390   7236.701390                   0.0   \n",
       "..            ...           ...           ...                   ...   \n",
       "213  13741.427160  13741.427160  13741.427160                   0.0   \n",
       "214   7236.701390   7236.701390   7236.701390                   0.0   \n",
       "215  -2165.964784  -2165.964784  -2165.964784                   0.0   \n",
       "216 -16850.516589 -16850.516589 -16850.516589                   0.0   \n",
       "217 -10982.447793 -10982.447793 -10982.447793                   0.0   \n",
       "\n",
       "     multiplicative_terms_lower  multiplicative_terms_upper          yhat  \n",
       "0                           0.0                         0.0 -2.162230e+04  \n",
       "1                           0.0                         0.0 -8.977945e+03  \n",
       "2                           0.0                         0.0  4.934777e+03  \n",
       "3                           0.0                         0.0  1.131731e+04  \n",
       "4                           0.0                         0.0  7.551169e+03  \n",
       "..                          ...                         ...           ...  \n",
       "213                         0.0                         0.0  2.145432e+07  \n",
       "214                         0.0                         0.0  2.165190e+07  \n",
       "215                         0.0                         0.0  2.184658e+07  \n",
       "216                         0.0                         0.0  2.203598e+07  \n",
       "217                         0.0                         0.0  2.224593e+07  \n",
       "\n",
       "[218 rows x 16 columns]"
      ]
     },
     "execution_count": 15,
     "metadata": {},
     "output_type": "execute_result"
    }
   ],
   "source": [
    "#prediction for future data\n",
    "prediction=model.predict(future_global)\n",
    "prediction"
   ]
  },
  {
   "cell_type": "code",
   "execution_count": 16,
   "id": "7dc1c0c9",
   "metadata": {},
   "outputs": [
    {
     "data": {
      "text/html": [
       "<div>\n",
       "<style scoped>\n",
       "    .dataframe tbody tr th:only-of-type {\n",
       "        vertical-align: middle;\n",
       "    }\n",
       "\n",
       "    .dataframe tbody tr th {\n",
       "        vertical-align: top;\n",
       "    }\n",
       "\n",
       "    .dataframe thead th {\n",
       "        text-align: right;\n",
       "    }\n",
       "</style>\n",
       "<table border=\"1\" class=\"dataframe\">\n",
       "  <thead>\n",
       "    <tr style=\"text-align: right;\">\n",
       "      <th></th>\n",
       "      <th>ds</th>\n",
       "      <th>yhat</th>\n",
       "      <th>yhat_lower</th>\n",
       "      <th>yhat_upper</th>\n",
       "    </tr>\n",
       "  </thead>\n",
       "  <tbody>\n",
       "    <tr>\n",
       "      <th>213</th>\n",
       "      <td>2020-08-22</td>\n",
       "      <td>2.145432e+07</td>\n",
       "      <td>2.102908e+07</td>\n",
       "      <td>2.182658e+07</td>\n",
       "    </tr>\n",
       "    <tr>\n",
       "      <th>214</th>\n",
       "      <td>2020-08-23</td>\n",
       "      <td>2.165190e+07</td>\n",
       "      <td>2.123969e+07</td>\n",
       "      <td>2.204545e+07</td>\n",
       "    </tr>\n",
       "    <tr>\n",
       "      <th>215</th>\n",
       "      <td>2020-08-24</td>\n",
       "      <td>2.184658e+07</td>\n",
       "      <td>2.141267e+07</td>\n",
       "      <td>2.227108e+07</td>\n",
       "    </tr>\n",
       "    <tr>\n",
       "      <th>216</th>\n",
       "      <td>2020-08-25</td>\n",
       "      <td>2.203598e+07</td>\n",
       "      <td>2.156169e+07</td>\n",
       "      <td>2.248824e+07</td>\n",
       "    </tr>\n",
       "    <tr>\n",
       "      <th>217</th>\n",
       "      <td>2020-08-26</td>\n",
       "      <td>2.224593e+07</td>\n",
       "      <td>2.174254e+07</td>\n",
       "      <td>2.272054e+07</td>\n",
       "    </tr>\n",
       "  </tbody>\n",
       "</table>\n",
       "</div>"
      ],
      "text/plain": [
       "            ds          yhat    yhat_lower    yhat_upper\n",
       "213 2020-08-22  2.145432e+07  2.102908e+07  2.182658e+07\n",
       "214 2020-08-23  2.165190e+07  2.123969e+07  2.204545e+07\n",
       "215 2020-08-24  2.184658e+07  2.141267e+07  2.227108e+07\n",
       "216 2020-08-25  2.203598e+07  2.156169e+07  2.248824e+07\n",
       "217 2020-08-26  2.224593e+07  2.174254e+07  2.272054e+07"
      ]
     },
     "execution_count": 16,
     "metadata": {},
     "output_type": "execute_result"
    }
   ],
   "source": [
    "prediction[['ds','yhat','yhat_lower','yhat_upper']].tail()"
   ]
  },
  {
   "cell_type": "code",
   "execution_count": 17,
   "id": "d23e123e",
   "metadata": {},
   "outputs": [
    {
     "data": {
      "image/png": "[encoded data removed]",
      "text/plain": [
       "<Figure size 720x432 with 1 Axes>"
      ]
     },
     "metadata": {},
     "output_type": "display_data"
    }
   ],
   "source": [
    "#visualizing the model\n",
    "model.plot(prediction);"
   ]
  },
  {
   "cell_type": "markdown",
   "id": "5c6cf295",
   "metadata": {},
   "source": [
    "Next, I created a forecasting Model with future dates(addition 30 days) and chosing only confirmed cases column to work with and predict the model for future confirmed cases. Then after plotthing the predicted model, its divided into 3 different colours. the Black dots are the actual data found from the table and the blue  line indicating the trend it will follow. the light blue line at the top right indicates the predicted month/ future data.\n",
    "We can easily conclude, that the graph is increasing exponentially, meaning Covid-19 cases will rise exponentially and thus , have to use Exponential Distribution for more Statistical analysis on the curve.\n"
   ]
  },
  {
   "cell_type": "markdown",
   "id": "1e7c1e35",
   "metadata": {},
   "source": [
    "\n",
    "\n",
    "Visualizing each and every component of prediction to say what exactly is the trend and then visualizing it in a weekly fashion as well will result in better evaluation."
   ]
  },
  {
   "cell_type": "code",
   "execution_count": 18,
   "id": "f44336a5",
   "metadata": {},
   "outputs": [
    {
     "data": {
      "image/png": "[encoded data removed]",
      "text/plain": [
       "<Figure size 648x432 with 2 Axes>"
      ]
     },
     "metadata": {},
     "output_type": "display_data"
    }
   ],
   "source": [
    "model.plot_components(prediction);"
   ]
  },
  {
   "cell_type": "markdown",
   "id": "c9fdd3a2",
   "metadata": {},
   "source": [
    "Grouping the prediction plot by week and day and then plotting it, and analyzing the graph i can say, around Wednesday Trend changes and weekly the trend fluctuates.\n",
    "\n",
    "\n",
    "So what are the points the trend changes?\n"
   ]
  },
  {
   "cell_type": "code",
   "execution_count": 19,
   "id": "8a068947",
   "metadata": {},
   "outputs": [
    {
     "data": {
      "image/png": "[encoded data removed]",
      "text/plain": [
       "<Figure size 720x432 with 1 Axes>"
      ]
     },
     "metadata": {},
     "output_type": "display_data"
    }
   ],
   "source": [
    "fig=model.plot(prediction)\n",
    "a=add_changepoints_to_plot(fig.gca(),model,prediction)"
   ]
  },
  {
   "cell_type": "markdown",
   "id": "0d9dc9f7",
   "metadata": {},
   "source": [
    "using the changepoints function, i calculated where the trend changes."
   ]
  },
  {
   "cell_type": "markdown",
   "id": "0662aba9",
   "metadata": {},
   "source": [
    "Since I'm working with Time Series Data, i'll apply cross validation for a 30 day interval, which makes forecasts from the cutoff points, until initial point is reached. with this, i'll get a row of datapoints with the cut off parameters, with 150x6 matrix"
   ]
  },
  {
   "cell_type": "code",
   "execution_count": 21,
   "id": "20f09637",
   "metadata": {},
   "outputs": [
    {
     "name": "stderr",
     "output_type": "stream",
     "text": [
      "INFO:fbprophet:Making 5 forecasts with cutoffs between 2020-04-28 00:00:00 and 2020-06-27 00:00:00\n"
     ]
    },
    {
     "data": {
      "application/vnd.jupyter.widget-view+json": {
       "model_id": "0f7552bcd9ff4757bcc41aa9c27f35b0",
       "version_major": 2,
       "version_minor": 0
      },
      "text/plain": [
       "  0%|          | 0/5 [00:00<?, ?it/s]"
      ]
     },
     "metadata": {},
     "output_type": "display_data"
    },
    {
     "data": {
      "text/html": [
       "<div>\n",
       "<style scoped>\n",
       "    .dataframe tbody tr th:only-of-type {\n",
       "        vertical-align: middle;\n",
       "    }\n",
       "\n",
       "    .dataframe tbody tr th {\n",
       "        vertical-align: top;\n",
       "    }\n",
       "\n",
       "    .dataframe thead th {\n",
       "        text-align: right;\n",
       "    }\n",
       "</style>\n",
       "<table border=\"1\" class=\"dataframe\">\n",
       "  <thead>\n",
       "    <tr style=\"text-align: right;\">\n",
       "      <th></th>\n",
       "      <th>ds</th>\n",
       "      <th>yhat</th>\n",
       "      <th>yhat_lower</th>\n",
       "      <th>yhat_upper</th>\n",
       "      <th>y</th>\n",
       "      <th>cutoff</th>\n",
       "    </tr>\n",
       "  </thead>\n",
       "  <tbody>\n",
       "    <tr>\n",
       "      <th>0</th>\n",
       "      <td>2020-04-29</td>\n",
       "      <td>3.201064e+06</td>\n",
       "      <td>3.196190e+06</td>\n",
       "      <td>3.206196e+06</td>\n",
       "      <td>3185195</td>\n",
       "      <td>2020-04-28</td>\n",
       "    </tr>\n",
       "    <tr>\n",
       "      <th>1</th>\n",
       "      <td>2020-04-30</td>\n",
       "      <td>3.285432e+06</td>\n",
       "      <td>3.279527e+06</td>\n",
       "      <td>3.291078e+06</td>\n",
       "      <td>3268876</td>\n",
       "      <td>2020-04-28</td>\n",
       "    </tr>\n",
       "    <tr>\n",
       "      <th>2</th>\n",
       "      <td>2020-05-01</td>\n",
       "      <td>3.369640e+06</td>\n",
       "      <td>3.361007e+06</td>\n",
       "      <td>3.377573e+06</td>\n",
       "      <td>3355922</td>\n",
       "      <td>2020-04-28</td>\n",
       "    </tr>\n",
       "    <tr>\n",
       "      <th>3</th>\n",
       "      <td>2020-05-02</td>\n",
       "      <td>3.450902e+06</td>\n",
       "      <td>3.439319e+06</td>\n",
       "      <td>3.462088e+06</td>\n",
       "      <td>3437608</td>\n",
       "      <td>2020-04-28</td>\n",
       "    </tr>\n",
       "    <tr>\n",
       "      <th>4</th>\n",
       "      <td>2020-05-03</td>\n",
       "      <td>3.530365e+06</td>\n",
       "      <td>3.514368e+06</td>\n",
       "      <td>3.546274e+06</td>\n",
       "      <td>3515244</td>\n",
       "      <td>2020-04-28</td>\n",
       "    </tr>\n",
       "  </tbody>\n",
       "</table>\n",
       "</div>"
      ],
      "text/plain": [
       "          ds          yhat    yhat_lower    yhat_upper        y     cutoff\n",
       "0 2020-04-29  3.201064e+06  3.196190e+06  3.206196e+06  3185195 2020-04-28\n",
       "1 2020-04-30  3.285432e+06  3.279527e+06  3.291078e+06  3268876 2020-04-28\n",
       "2 2020-05-01  3.369640e+06  3.361007e+06  3.377573e+06  3355922 2020-04-28\n",
       "3 2020-05-02  3.450902e+06  3.439319e+06  3.462088e+06  3437608 2020-04-28\n",
       "4 2020-05-03  3.530365e+06  3.514368e+06  3.546274e+06  3515244 2020-04-28"
      ]
     },
     "execution_count": 21,
     "metadata": {},
     "output_type": "execute_result"
    }
   ],
   "source": [
    "#cross validatiing the time series model\n",
    "df_cv=cross_validation(model, horizon='30 days',period='15 days',initial='90 days')\n",
    "df_cv.head()"
   ]
  },
  {
   "cell_type": "code",
   "execution_count": 22,
   "id": "16b55c14",
   "metadata": {},
   "outputs": [
    {
     "data": {
      "text/html": [
       "<div>\n",
       "<style scoped>\n",
       "    .dataframe tbody tr th:only-of-type {\n",
       "        vertical-align: middle;\n",
       "    }\n",
       "\n",
       "    .dataframe tbody tr th {\n",
       "        vertical-align: top;\n",
       "    }\n",
       "\n",
       "    .dataframe thead th {\n",
       "        text-align: right;\n",
       "    }\n",
       "</style>\n",
       "<table border=\"1\" class=\"dataframe\">\n",
       "  <thead>\n",
       "    <tr style=\"text-align: right;\">\n",
       "      <th></th>\n",
       "      <th>horizon</th>\n",
       "      <th>mse</th>\n",
       "      <th>rmse</th>\n",
       "      <th>mae</th>\n",
       "      <th>mape</th>\n",
       "      <th>mdape</th>\n",
       "      <th>coverage</th>\n",
       "    </tr>\n",
       "  </thead>\n",
       "  <tbody>\n",
       "    <tr>\n",
       "      <th>0</th>\n",
       "      <td>3 days</td>\n",
       "      <td>2.732177e+10</td>\n",
       "      <td>165292.978537</td>\n",
       "      <td>129431.475977</td>\n",
       "      <td>0.016894</td>\n",
       "      <td>0.017781</td>\n",
       "      <td>0.000000</td>\n",
       "    </tr>\n",
       "    <tr>\n",
       "      <th>1</th>\n",
       "      <td>4 days</td>\n",
       "      <td>3.783770e+10</td>\n",
       "      <td>194519.153621</td>\n",
       "      <td>151640.363022</td>\n",
       "      <td>0.019358</td>\n",
       "      <td>0.022609</td>\n",
       "      <td>0.000000</td>\n",
       "    </tr>\n",
       "    <tr>\n",
       "      <th>2</th>\n",
       "      <td>5 days</td>\n",
       "      <td>5.187132e+10</td>\n",
       "      <td>227752.759122</td>\n",
       "      <td>175493.706735</td>\n",
       "      <td>0.021809</td>\n",
       "      <td>0.025662</td>\n",
       "      <td>0.066667</td>\n",
       "    </tr>\n",
       "    <tr>\n",
       "      <th>3</th>\n",
       "      <td>6 days</td>\n",
       "      <td>6.958295e+10</td>\n",
       "      <td>263785.805797</td>\n",
       "      <td>202488.978430</td>\n",
       "      <td>0.024588</td>\n",
       "      <td>0.026660</td>\n",
       "      <td>0.133333</td>\n",
       "    </tr>\n",
       "    <tr>\n",
       "      <th>4</th>\n",
       "      <td>7 days</td>\n",
       "      <td>9.037899e+10</td>\n",
       "      <td>300630.981552</td>\n",
       "      <td>232841.149368</td>\n",
       "      <td>0.027870</td>\n",
       "      <td>0.031220</td>\n",
       "      <td>0.200000</td>\n",
       "    </tr>\n",
       "  </tbody>\n",
       "</table>\n",
       "</div>"
      ],
      "text/plain": [
       "  horizon           mse           rmse            mae      mape     mdape  \\\n",
       "0  3 days  2.732177e+10  165292.978537  129431.475977  0.016894  0.017781   \n",
       "1  4 days  3.783770e+10  194519.153621  151640.363022  0.019358  0.022609   \n",
       "2  5 days  5.187132e+10  227752.759122  175493.706735  0.021809  0.025662   \n",
       "3  6 days  6.958295e+10  263785.805797  202488.978430  0.024588  0.026660   \n",
       "4  7 days  9.037899e+10  300630.981552  232841.149368  0.027870  0.031220   \n",
       "\n",
       "   coverage  \n",
       "0  0.000000  \n",
       "1  0.000000  \n",
       "2  0.066667  \n",
       "3  0.133333  \n",
       "4  0.200000  "
      ]
     },
     "execution_count": 22,
     "metadata": {},
     "output_type": "execute_result"
    }
   ],
   "source": [
    "#obtaining perfomance matrix for the data\n",
    "df_performance=performance_metrics(df_cv)\n",
    "df_performance.head()"
   ]
  },
  {
   "cell_type": "markdown",
   "id": "7a0a496d",
   "metadata": {},
   "source": [
    "Lastly, i obtained the performance metrics for the model using performance metrics function, with values containing root mean square, root mean square errors, Mean square error, mean avaerage error and more"
   ]
  },
  {
   "cell_type": "code",
   "execution_count": 24,
   "id": "d8c6e654",
   "metadata": {},
   "outputs": [
    {
     "data": {
      "image/png": "[encoded data removed]",
      "text/plain": [
       "<Figure size 720x432 with 1 Axes>"
      ]
     },
     "metadata": {},
     "output_type": "display_data"
    }
   ],
   "source": [
    "df_performance=plot_cross_validation_metric(df_cv,metric='rmse')"
   ]
  },
  {
   "cell_type": "markdown",
   "id": "9bef3391",
   "metadata": {},
   "source": [
    "Ploting the root mean square error, it is seen thst rmse is very low i.e., around 1.5. which indicated that this model is a good Prediction model."
   ]
  },
  {
   "cell_type": "markdown",
   "id": "fdb69ab3",
   "metadata": {},
   "source": [
    "Hence, the Prediction Analysis is complete."
   ]
  },
  {
   "cell_type": "code",
   "execution_count": null,
   "id": "451acadd",
   "metadata": {},
   "outputs": [],
   "source": []
  }
 ],
 "metadata": {
  "kernelspec": {
   "display_name": "Python 3",
   "language": "python",
   "name": "python3"
  },
  "language_info": {
   "codemirror_mode": {
    "name": "ipython",
    "version": 3
   },
   "file_extension": ".py",
   "mimetype": "text/x-python",
   "name": "python",
   "nbconvert_exporter": "python",
   "pygments_lexer": "ipython3",
   "version": "3.8.8"
  }
 },
 "nbformat": 4,
 "nbformat_minor": 5
}
